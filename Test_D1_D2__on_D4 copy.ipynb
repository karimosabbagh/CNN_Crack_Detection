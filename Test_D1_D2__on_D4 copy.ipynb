{
 "cells": [
  {
   "cell_type": "markdown",
   "metadata": {},
   "source": []
  },
  {
   "cell_type": "markdown",
   "metadata": {},
   "source": []
  },
  {
   "cell_type": "code",
   "execution_count": 1,
   "metadata": {},
   "outputs": [
    {
     "name": "stdout",
     "output_type": "stream",
     "text": [
      "Warning: Your Kaggle API key is readable by other users on this system! To fix this, you can run 'chmod 600 /Users/KarimSabbagh25/.kaggle/kaggle.json'\n"
     ]
    }
   ],
   "source": [
    "# Import functions from the modules\n",
    "from modules.data_preparation import process_dataset_testing, process_dataset_training, authenticate_kaggle,  download_dataset\n",
    "from modules.model import build_model, load_model\n",
    "from modules.training import train_model, train_model_k_fold\n",
    "from modules.visualization import visualize_results\n",
    "from modules.test import evaluate_model_on_test_set, evaluate_model_on_test_set_w_confusion"
   ]
  },
  {
   "cell_type": "code",
   "execution_count": 4,
   "metadata": {},
   "outputs": [],
   "source": [
    "import torch\n",
    "import os\n",
    "from sklearn.metrics import confusion_matrix"
   ]
  },
  {
   "cell_type": "code",
   "execution_count": 5,
   "metadata": {},
   "outputs": [],
   "source": [
    "dataset_name = \"aniruddhsharma/structural-defects-network-concrete-crack-images\"\n",
    "dataset_name = \"imtkaggleteam/concrete-crack-classification\"\n",
    "dataset_dir = \"data/D4\""
   ]
  },
  {
   "cell_type": "code",
   "execution_count": 4,
   "metadata": {},
   "outputs": [
    {
     "name": "stdout",
     "output_type": "stream",
     "text": [
      "Dataset URL: https://www.kaggle.com/datasets/imtkaggleteam/concrete-crack-classification\n"
     ]
    }
   ],
   "source": [
    "# Download the dataset\n",
    "authenticate_kaggle()\n",
    "download_dataset(dataset_name, dataset_dir)"
   ]
  },
  {
   "cell_type": "code",
   "execution_count": 6,
   "metadata": {},
   "outputs": [],
   "source": [
    "# Build the model based on trained parameters from D1\n",
    "model_paths = ['CNN_models/D12_simul.pt']\n",
    "device = torch.device(\"cuda\" if torch.cuda.is_available() else \"cpu\")\n",
    "model, criterion, optimizer, exp_lr_scheduler = build_model()\n"
   ]
  },
  {
   "cell_type": "code",
   "execution_count": 7,
   "metadata": {},
   "outputs": [
    {
     "name": "stdout",
     "output_type": "stream",
     "text": [
      "Model: CNN_models/D12_simul.pt\n",
      "Test Accuracy: 0.8790\n",
      "Test Precision: 0.9005\n",
      "Test Recall: 0.8790\n",
      "Test F1-Score: 0.8774\n",
      "[[15262  4738]\n",
      " [  102 19898]]\n"
     ]
    }
   ],
   "source": [
    "for model in model_paths:\n",
    "    print(f'Model: {model}')\n",
    "    model = load_model(model, device)\n",
    "    dataloader, class_names = process_dataset_testing(dataset_dir, subset_fraction=1)\n",
    "    accuracy, precision, recall, f1, all_labels, all_preds = evaluate_model_on_test_set(model, dataloader, device)\n",
    "    cm = confusion_matrix(all_labels, all_preds)\n",
    "    print(cm)\n",
    "    # for concrete_structure in os.listdir(dataset_dir):\n",
    "    #     print(f'- Structure: {concrete_structure}')\n",
    "    #     folder_path = os.path.join(dataset_dir, concrete_structure)\n",
    "    #     dataloader, class_names = process_dataset_testing(folder_path, subset_fraction=1)\n",
    "    #     accuracy, precision, recall, f1, all_labels, all_preds = evaluate_model_on_test_set(model, dataloader, device)\n",
    "    #     cm = confusion_matrix(all_labels, all_preds)\n",
    "    #     print(cm)"
   ]
  },
  {
   "cell_type": "code",
   "execution_count": null,
   "metadata": {},
   "outputs": [
    {
     "data": {
      "text/plain": [
       "array([[200,  50],\n",
       "       [ 50, 200]])"
      ]
     },
     "execution_count": 18,
     "metadata": {},
     "output_type": "execute_result"
    }
   ],
   "source": []
  },
  {
   "cell_type": "code",
   "execution_count": null,
   "metadata": {},
   "outputs": [],
   "source": []
  }
 ],
 "metadata": {
  "kernelspec": {
   "display_name": ".venv",
   "language": "python",
   "name": "python3"
  },
  "language_info": {
   "codemirror_mode": {
    "name": "ipython",
    "version": 3
   },
   "file_extension": ".py",
   "mimetype": "text/x-python",
   "name": "python",
   "nbconvert_exporter": "python",
   "pygments_lexer": "ipython3",
   "version": "3.9.1"
  }
 },
 "nbformat": 4,
 "nbformat_minor": 4
}
