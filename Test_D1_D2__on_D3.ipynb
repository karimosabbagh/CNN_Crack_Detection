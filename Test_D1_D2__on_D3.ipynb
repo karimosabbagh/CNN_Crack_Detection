{
 "cells": [
  {
   "cell_type": "markdown",
   "metadata": {},
   "source": []
  },
  {
   "cell_type": "markdown",
   "metadata": {},
   "source": []
  },
  {
   "cell_type": "code",
   "execution_count": 1,
   "metadata": {},
   "outputs": [
    {
     "name": "stdout",
     "output_type": "stream",
     "text": [
      "Warning: Your Kaggle API key is readable by other users on this system! To fix this, you can run 'chmod 600 /Users/KarimSabbagh25/.kaggle/kaggle.json'\n"
     ]
    }
   ],
   "source": [
    "# Import functions from the modules\n",
    "from modules.data_preparation import process_dataset_testing, process_dataset_training, authenticate_kaggle,  download_dataset\n",
    "from modules.model import build_model, load_model\n",
    "from modules.training import train_model, train_model_k_fold\n",
    "from modules.visualization import visualize_results\n",
    "from modules.test import evaluate_model_on_test_set, evaluate_model_on_test_set_w_confusion"
   ]
  },
  {
   "cell_type": "code",
   "execution_count": 2,
   "metadata": {},
   "outputs": [],
   "source": [
    "import torch\n",
    "import os\n",
    "from sklearn.metrics import confusion_matrix"
   ]
  },
  {
   "cell_type": "code",
   "execution_count": 3,
   "metadata": {},
   "outputs": [],
   "source": [
    "dataset_name = \"aniruddhsharma/structural-defects-network-concrete-crack-images\"\n",
    "dataset_dir = \"data/D3\""
   ]
  },
  {
   "cell_type": "code",
   "execution_count": null,
   "metadata": {},
   "outputs": [
    {
     "name": "stdout",
     "output_type": "stream",
     "text": [
      "Dataset URL: https://www.kaggle.com/datasets/aniruddhsharma/structural-defects-network-concrete-crack-images\n"
     ]
    }
   ],
   "source": [
    "# Download the dataset\n",
    "authenticate_kaggle()\n",
    "download_dataset(dataset_name, dataset_dir)"
   ]
  },
  {
   "cell_type": "code",
   "execution_count": 7,
   "metadata": {},
   "outputs": [],
   "source": [
    "# Build the model based on trained parameters from D1\n",
    "model_paths = ['CNN_models/D1_params.pt', 'CNN_models/D1_D2.pt']\n",
    "device = torch.device(\"cuda\" if torch.cuda.is_available() else \"cpu\")\n",
    "model, criterion, optimizer, exp_lr_scheduler = build_model()\n"
   ]
  },
  {
   "cell_type": "code",
   "execution_count": 8,
   "metadata": {},
   "outputs": [
    {
     "name": "stdout",
     "output_type": "stream",
     "text": [
      "Model: CNN_models/D1_params.pt\n",
      "- Structure: Walls\n",
      "Test Accuracy: 0.2552\n",
      "Test Precision: 0.5772\n",
      "Test Recall: 0.2552\n",
      "Test F1-Score: 0.2085\n",
      "[[ 3157   694]\n",
      " [12816  1471]]\n",
      "- Structure: Pavements\n",
      "Test Accuracy: 0.4178\n",
      "Test Precision: 0.7487\n",
      "Test Recall: 0.4178\n",
      "Test F1-Score: 0.5204\n",
      "[[  697  1911]\n",
      " [12256  9470]]\n",
      "- Structure: Decks\n",
      "Test Accuracy: 0.1880\n",
      "Test Precision: 0.6438\n",
      "Test Recall: 0.1880\n",
      "Test F1-Score: 0.1481\n",
      "[[ 1716   309]\n",
      " [10750   845]]\n",
      "Model: CNN_models/D1_D2.pt\n",
      "- Structure: Walls\n",
      "Test Accuracy: 0.4735\n",
      "Test Precision: 0.6434\n",
      "Test Recall: 0.4735\n",
      "Test F1-Score: 0.5208\n",
      "[[1757 2094]\n",
      " [7455 6832]]\n",
      "- Structure: Pavements\n",
      "Test Accuracy: 0.2130\n",
      "Test Precision: 0.6702\n",
      "Test Recall: 0.2130\n",
      "Test F1-Score: 0.2725\n",
      "[[ 1244  1364]\n",
      " [17787  3939]]\n",
      "- Structure: Decks\n",
      "Test Accuracy: 0.2412\n",
      "Test Precision: 0.6526\n",
      "Test Recall: 0.2412\n",
      "Test F1-Score: 0.2614\n",
      "[[1369  656]\n",
      " [9679 1916]]\n"
     ]
    }
   ],
   "source": [
    "for model in model_paths:\n",
    "    print(f'Model: {model}')\n",
    "    model = load_model(model, device)\n",
    "    for concrete_structure in os.listdir(dataset_dir):\n",
    "        print(f'- Structure: {concrete_structure}')\n",
    "        folder_path = os.path.join(dataset_dir, concrete_structure)\n",
    "        dataloader, class_names = process_dataset_testing(folder_path, subset_fraction=1)\n",
    "        accuracy, precision, recall, f1, all_labels, all_preds = evaluate_model_on_test_set(model, dataloader, device)\n",
    "        cm = confusion_matrix(all_labels, all_preds)\n",
    "        print(cm)"
   ]
  },
  {
   "cell_type": "code",
   "execution_count": null,
   "metadata": {},
   "outputs": [
    {
     "data": {
      "text/plain": [
       "array([[200,  50],\n",
       "       [ 50, 200]])"
      ]
     },
     "execution_count": 18,
     "metadata": {},
     "output_type": "execute_result"
    }
   ],
   "source": []
  },
  {
   "cell_type": "code",
   "execution_count": null,
   "metadata": {},
   "outputs": [],
   "source": []
  }
 ],
 "metadata": {
  "kernelspec": {
   "display_name": ".venv",
   "language": "python",
   "name": "python3"
  },
  "language_info": {
   "codemirror_mode": {
    "name": "ipython",
    "version": 3
   },
   "file_extension": ".py",
   "mimetype": "text/x-python",
   "name": "python",
   "nbconvert_exporter": "python",
   "pygments_lexer": "ipython3",
   "version": "3.9.1"
  }
 },
 "nbformat": 4,
 "nbformat_minor": 4
}
